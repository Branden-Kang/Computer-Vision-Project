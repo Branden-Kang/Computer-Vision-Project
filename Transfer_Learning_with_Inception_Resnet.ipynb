{
  "nbformat": 4,
  "nbformat_minor": 0,
  "metadata": {
    "colab": {
      "name": "Transfer_Learning with Inception Resnet.ipynb",
      "provenance": [],
      "authorship_tag": "ABX9TyMuE7Mi5VrN3nkoN4lmPTMK"
    },
    "kernelspec": {
      "name": "python3",
      "display_name": "Python 3"
    },
    "accelerator": "GPU"
  },
  "cells": [
    {
      "cell_type": "markdown",
      "metadata": {
        "id": "cOvKESq4g-W0"
      },
      "source": [
        "[Reference](https://github.com/thushv89/manning_tf2_in_action/blob/master/Ch07/7.2.Transfer_Learning.ipynb)"
      ]
    },
    {
      "cell_type": "code",
      "metadata": {
        "colab": {
          "base_uri": "https://localhost:8080/"
        },
        "id": "Q_i0sn0je9JM",
        "outputId": "a5d3de89-f22f-49bc-ea4b-71f68fd32098"
      },
      "source": [
        "import tensorflow as tf\n",
        "#import tensorflow_hub as hub\n",
        "import requests\n",
        "print(tf.__version__)\n",
        "import zipfile\n",
        "import requests\n",
        "import os\n",
        "import time\n",
        "import pandas as pd\n",
        "import random\n",
        "import shutil\n",
        "from tensorflow.keras.preprocessing.image import ImageDataGenerator\n",
        "import os\n",
        "from tensorflow.keras.layers import Input, Conv2D, MaxPool2D, AvgPool2D, Dense, Concatenate, Flatten, Lambda, Dropout\n",
        "from tensorflow.keras.models import Model\n",
        "from tensorflow.keras.losses import CategoricalCrossentropy\n",
        "import tensorflow.keras.backend as K\n",
        "from tensorflow.keras.callbacks import EarlyStopping, CSVLogger\n",
        "import numpy as np\n",
        "from PIL import Image\n",
        "import tensorflow.keras.backend as K\n",
        "import pickle\n",
        "from tensorflow.keras.models import load_model, Model\n",
        "\n",
        "gpus = tf.config.experimental.list_physical_devices('GPU')\n",
        "if gpus:\n",
        "    try:\n",
        "        # Currently, memory growth needs to be the same across GPUs\n",
        "        for gpu in gpus:\n",
        "            tf.config.experimental.set_memory_growth(gpu, True)\n",
        "    except:\n",
        "        print(\"Couldn't set memory_growth\")\n",
        "        pass\n",
        "    \n",
        "    \n",
        "def fix_random_seed(seed):\n",
        "    \"\"\" Setting the random seed of various libraries \"\"\"\n",
        "    try:\n",
        "        np.random.seed(seed)\n",
        "    except NameError:\n",
        "        print(\"Warning: Numpy is not imported. Setting the seed for Numpy failed.\")\n",
        "    try:\n",
        "        tf.random.set_seed(seed)\n",
        "    except NameError:\n",
        "        print(\"Warning: TensorFlow is not imported. Setting the seed for TensorFlow failed.\")\n",
        "    try:\n",
        "        random.seed(seed)\n",
        "    except NameError:\n",
        "        print(\"Warning: random module is not imported. Setting the seed for random failed.\")\n",
        "\n",
        "# Fixing the random seed\n",
        "random_seed=4321\n",
        "fix_random_seed(random_seed)"
      ],
      "execution_count": 1,
      "outputs": [
        {
          "output_type": "stream",
          "text": [
            "2.3.0\n"
          ],
          "name": "stdout"
        }
      ]
    },
    {
      "cell_type": "code",
      "metadata": {
        "id": "MyVFojoffEvO"
      },
      "source": [
        "import os\n",
        "import requests\n",
        "import zipfile\n",
        "\n",
        "# Retrieve the data\n",
        "if not os.path.exists(os.path.join('data','tiny-imagenet-200.zip')):\n",
        "    url = \"http://cs231n.stanford.edu/tiny-imagenet-200.zip\"\n",
        "    # Get the file from web\n",
        "    r = requests.get(url)\n",
        "\n",
        "    if not os.path.exists('data'):\n",
        "        os.mkdir('data')\n",
        "    \n",
        "    # Write to a file\n",
        "    with open(os.path.join('data','tiny-imagenet-200.zip'), 'wb') as f:\n",
        "        f.write(r.content)\n",
        "else:\n",
        "    print(\"The zip file already exists.\")\n",
        "    \n",
        "if not os.path.exists(os.path.join('data', 'tiny-imagenet-200')):\n",
        "    with zipfile.ZipFile(os.path.join('data','tiny-imagenet-200.zip'), 'r') as zip_ref:\n",
        "        zip_ref.extractall('data')\n",
        "else:\n",
        "    print(\"The extracted data already exists\")"
      ],
      "execution_count": 2,
      "outputs": []
    },
    {
      "cell_type": "code",
      "metadata": {
        "colab": {
          "base_uri": "https://localhost:8080/"
        },
        "id": "X8cJcanufN4D",
        "outputId": "46c0c4b5-f9ea-437a-a796-142975e5ef3b"
      },
      "source": [
        "from functools import partial\n",
        "\n",
        "def get_test_labels_df(test_labels_path):\n",
        "    \"\"\" Reading the test data labels for all files in the test set as a data frame \"\"\"\n",
        "    test_df = pd.read_csv(test_labels_path, sep='\\t', index_col=None, header=None)\n",
        "    test_df = test_df.iloc[:,[0,1]].rename({0:\"filename\", 1:\"class\"}, axis=1)\n",
        "    return test_df\n",
        "\n",
        "\n",
        "        \n",
        "\n",
        "def get_train_valid_test_data_generators(batch_size, target_size):\n",
        "    \"\"\" Get the training/validation/testing data generators \"\"\"\n",
        "    \n",
        "    # Defining a data-augmenting image data generator and a standard image data generator\n",
        "    image_gen_aug = ImageDataGenerator(\n",
        "        samplewise_center=False, rotation_range=30, width_shift_range=0.2,\n",
        "        height_shift_range=0.2, brightness_range=(0.5,1.5), shear_range=5, \n",
        "        zoom_range=0.2, horizontal_flip=True, fill_mode='reflect', validation_split=0.1\n",
        "    )\n",
        "    image_gen = ImageDataGenerator(samplewise_center=False)\n",
        "    \n",
        "    # Define a training data generator\n",
        "    partial_flow_func = partial(\n",
        "        image_gen_aug.flow_from_directory, \n",
        "        directory=os.path.join('data','tiny-imagenet-200', 'train'), \n",
        "        target_size=target_size, classes=None,\n",
        "        class_mode='categorical', batch_size=batch_size, \n",
        "        shuffle=True, seed=random_seed)\n",
        "    \n",
        "    # Get the training data subset\n",
        "    train_gen = partial_flow_func(subset='training')\n",
        "    # Get the validation data subset\n",
        "    valid_gen = partial_flow_func(subset='validation')    \n",
        "\n",
        "    # Defining the test data generator\n",
        "    test_df = get_test_labels_df(os.path.join('data','tiny-imagenet-200',  'val', 'val_annotations.txt'))\n",
        "    test_gen = image_gen.flow_from_dataframe(\n",
        "        test_df, directory=os.path.join('data','tiny-imagenet-200',  'val', 'images'), target_size=target_size, classes=None,\n",
        "        class_mode='categorical', batch_size=batch_size, shuffle=False\n",
        "    )\n",
        "    return train_gen, valid_gen, test_gen\n",
        "\n",
        "\n",
        "def data_gen_augmented_inception_resnet_v2(gen, random_gamma=False, random_occlude=False):\n",
        "    for x,y in gen: \n",
        "        if random_gamma:\n",
        "            # Gamma correction\n",
        "            # Doing this in the image process fn doesn't help improve performance\n",
        "            rand_gamma = np.random.uniform(0.93, 1.06, (x.shape[0],1,1,1))\n",
        "            x = x**rand_gamma\n",
        "            \n",
        "        if random_occlude:\n",
        "            # Randomly occluding sections in the image\n",
        "            occ_size = 10\n",
        "            occ_h, occ_w = np.random.randint(0, x.shape[0]-occ_size), np.random.randint(0, x.shape[0]-occ_size)\n",
        "            x[::2,occ_h:occ_h+occ_size,occ_w:occ_w+occ_size,:] = np.random.choice([0.,128.,255.])\n",
        "        \n",
        "        # https://github.com/tensorflow/tensorflow/blob/2b96f3662bd776e277f86997659e61046b56c315/tensorflow/python/keras/applications/imagenet_utils.py#L181\n",
        "        x /= 127.5\n",
        "        x -= 1\n",
        "\n",
        "        yield x,y\n",
        "        \n",
        "        \n",
        "batch_size = 32\n",
        "target_size = (224,224)\n",
        "# Getting the train,valid, test data generators\n",
        "train_gen, valid_gen, test_gen = get_train_valid_test_data_generators(batch_size, target_size)\n",
        "# Modifying the data generators to fit the model targets\n",
        "# We augment data in the training set\n",
        "train_gen_aux = data_gen_augmented_inception_resnet_v2(train_gen, random_gamma=True, random_occlude=True)\n",
        "# We do not augment data in the validation/test datasets\n",
        "valid_gen_aux = data_gen_augmented_inception_resnet_v2(valid_gen)\n",
        "test_gen_aux = data_gen_augmented_inception_resnet_v2(test_gen)\n",
        "\n",
        "\n",
        "with open(os.path.join('data','class_indices'), 'wb') as f:\n",
        "    pickle.dump(train_gen.class_indices, f)"
      ],
      "execution_count": 3,
      "outputs": [
        {
          "output_type": "stream",
          "text": [
            "Found 90000 images belonging to 200 classes.\n",
            "Found 10000 images belonging to 200 classes.\n",
            "Found 10000 validated image filenames belonging to 200 classes.\n"
          ],
          "name": "stdout"
        }
      ]
    },
    {
      "cell_type": "code",
      "metadata": {
        "id": "A8eQ1Axgf6J1"
      },
      "source": [
        "def get_steps_per_epoch(n_data, batch_size):\n",
        "    \"\"\" Given the data size and batch size, gives the number of steps to travers the full dataset \"\"\"\n",
        "    if n_data%batch_size==0:\n",
        "        return int(n_data/batch_size)\n",
        "    else:\n",
        "        return int(n_data*1.0/batch_size)+1"
      ],
      "execution_count": 4,
      "outputs": []
    },
    {
      "cell_type": "markdown",
      "metadata": {
        "id": "f6kHwqcPf-pQ"
      },
      "source": [
        "# Pretrained Inception Resnet v2 network "
      ]
    },
    {
      "cell_type": "code",
      "metadata": {
        "colab": {
          "base_uri": "https://localhost:8080/"
        },
        "id": "nP_YsarJf8cY",
        "outputId": "aefabf05-7776-40bc-bf44-7380e4aea860"
      },
      "source": [
        "from tensorflow.keras.applications import InceptionResNetV2\n",
        "from tensorflow.keras.models import Sequential\n",
        "from tensorflow.keras.layers import Input, Dense, Dropout\n",
        "\n",
        "K.clear_session()\n",
        "\n",
        "def get_inception_resnet_v2_pretrained():\n",
        "    model = Sequential([\n",
        "        Input(shape=(224,224,3)),\n",
        "        InceptionResNetV2(include_top=False, pooling='avg'),\n",
        "        Dropout(0.4),\n",
        "        Dense(200, activation='softmax')\n",
        "    ])\n",
        "\n",
        "    loss = tf.keras.losses.CategoricalCrossentropy()\n",
        "    adam = tf.keras.optimizers.Adam(learning_rate=0.0001)\n",
        "    model.compile(loss=loss, optimizer=adam, metrics=['accuracy'])\n",
        "    return model \n",
        "\n",
        "model = get_inception_resnet_v2_pretrained()\n",
        "model.summary()"
      ],
      "execution_count": 5,
      "outputs": [
        {
          "output_type": "stream",
          "text": [
            "Downloading data from https://storage.googleapis.com/tensorflow/keras-applications/inception_resnet_v2/inception_resnet_v2_weights_tf_dim_ordering_tf_kernels_notop.h5\n",
            "219062272/219055592 [==============================] - 2s 0us/step\n",
            "Model: \"sequential\"\n",
            "_________________________________________________________________\n",
            "Layer (type)                 Output Shape              Param #   \n",
            "=================================================================\n",
            "inception_resnet_v2 (Functio (None, 1536)              54336736  \n",
            "_________________________________________________________________\n",
            "dropout (Dropout)            (None, 1536)              0         \n",
            "_________________________________________________________________\n",
            "dense (Dense)                (None, 200)               307400    \n",
            "=================================================================\n",
            "Total params: 54,644,136\n",
            "Trainable params: 54,583,592\n",
            "Non-trainable params: 60,544\n",
            "_________________________________________________________________\n"
          ],
          "name": "stdout"
        }
      ]
    },
    {
      "cell_type": "code",
      "metadata": {
        "id": "_lm3wLZ9gC9o"
      },
      "source": [
        "def get_steps_per_epoch(n_data, batch_size):\n",
        "    \"\"\" Given the data size and batch size, gives the number of steps to travers the full dataset \"\"\"\n",
        "    if n_data%batch_size==0:\n",
        "        return int(n_data/batch_size)\n",
        "    else:\n",
        "        return int(n_data*1.0/batch_size)+1"
      ],
      "execution_count": 6,
      "outputs": []
    },
    {
      "cell_type": "code",
      "metadata": {
        "colab": {
          "base_uri": "https://localhost:8080/"
        },
        "id": "mEg1pXdYgFHx",
        "outputId": "397b5cea-294c-4da0-a09f-f4f25e7f11ce"
      },
      "source": [
        "from tensorflow.keras.callbacks import EarlyStopping, CSVLogger\n",
        "\n",
        "es_callback = EarlyStopping(monitor='val_loss', patience=10)\n",
        "# csv_logger = CSVLogger(os.path.join('eval','4_eval_resnet_pretrained.log'))\n",
        "n_epochs=2\n",
        "\n",
        "lr_callback = tf.keras.callbacks.ReduceLROnPlateau(\n",
        "    monitor='val_loss', factor=0.1, patience=5, verbose=1, mode='auto'\n",
        ")\n",
        "\n",
        "history = model.fit(\n",
        "    train_gen_aux, validation_data=valid_gen_aux, \n",
        "    steps_per_epoch=get_steps_per_epoch(int(0.9*(500*200)), batch_size), \n",
        "    validation_steps=get_steps_per_epoch(int(0.1*(500*200)), batch_size),\n",
        "    epochs=n_epochs, callbacks=[es_callback, lr_callback] # csv_logger\n",
        ")"
      ],
      "execution_count": 7,
      "outputs": [
        {
          "output_type": "stream",
          "text": [
            "Epoch 1/2\n",
            "2813/2813 [==============================] - 2612s 929ms/step - loss: 2.0753 - accuracy: 0.5416 - val_loss: 1.5254 - val_accuracy: 0.6432\n",
            "Epoch 2/2\n",
            "2813/2813 [==============================] - 2593s 922ms/step - loss: 1.3711 - accuracy: 0.6673 - val_loss: 1.6509 - val_accuracy: 0.6366\n"
          ],
          "name": "stdout"
        }
      ]
    },
    {
      "cell_type": "code",
      "metadata": {
        "id": "6BCskCUxgKpI"
      },
      "source": [
        "if not os.path.exists('models'):\n",
        "    os.mkdir(\"models\")\n",
        "model.save(os.path.join('models', 'inception_resnet_v2.h5'))"
      ],
      "execution_count": 8,
      "outputs": []
    },
    {
      "cell_type": "code",
      "metadata": {
        "colab": {
          "base_uri": "https://localhost:8080/"
        },
        "id": "ZeGxw_xQgjc-",
        "outputId": "71bc5365-3c79-4930-9b3a-cd47405f1be0"
      },
      "source": [
        "K.clear_session()\n",
        "# Load the model from disk\n",
        "try: \n",
        "    model = load_model(os.path.join('models','inception_resnet_v2.h5'))\n",
        "except:\n",
        "    # Sometimes loading the above model result in ValueError: Unknown layer: Functional\n",
        "    print(\"Model loading failed. Trying a different method\")\n",
        "    model = get_inception_resnet_v2_pretrained()\n",
        "    model.load_weights(os.path.join('models','inception_resnet_v2.h5'))\n",
        "\n",
        "print(\"Model was successfully loaded\")\n",
        "# Evaluate the model\n",
        "test_res = model.evaluate(test_gen_aux, steps=get_steps_per_epoch(500*50, batch_size))\n",
        "\n",
        "# Print the results as a dictionary {<metric name>: <value>}\n",
        "test_res_dict = dict(zip(model.metrics_names, test_res))\n",
        "print(test_res_dict)\n"
      ],
      "execution_count": 9,
      "outputs": [
        {
          "output_type": "stream",
          "text": [
            "Model was successfully loaded\n",
            "782/782 [==============================] - 135s 172ms/step - loss: 1.2057 - accuracy: 0.7213\n",
            "{'loss': 1.205685019493103, 'accuracy': 0.7213107943534851}\n"
          ],
          "name": "stdout"
        }
      ]
    },
    {
      "cell_type": "code",
      "metadata": {
        "colab": {
          "base_uri": "https://localhost:8080/",
          "height": 973
        },
        "id": "GuWdwT6jgl56",
        "outputId": "467212d3-f28b-4d17-cee2-8c71cf5f7504"
      },
      "source": [
        "import pandas as pd\n",
        "import matplotlib.pyplot as plt\n",
        "\n",
        "def plot_metrics(files, metrics, labels=None, linestyles=None, marker_styles=None, colors=None):\n",
        "    data = {}    \n",
        "    \n",
        "    for i, f in enumerate(files):\n",
        "        df = pd.read_csv(f, header=0, index_col=0)        \n",
        "        if labels is not None:\n",
        "            data[labels[i]] = df\n",
        "        else:\n",
        "            data[f] = df\n",
        "            \n",
        "    fig, axes = plt.subplots(len(metrics), 1, figsize=(16,16))\n",
        "    \n",
        "    for m, ax in zip(metrics, axes):        \n",
        "        met_df = []\n",
        "        for i, (lbl, df) in enumerate(data.items()):\n",
        "            train_m, val_m = None, None\n",
        "            for c in df.columns:\n",
        "                if m in c and 'val' not in c:\n",
        "                    train_m = c\n",
        "                elif m in c and 'val' in c:\n",
        "                    val_m = c\n",
        "                    \n",
        "            if linestyles is not None:\n",
        "                ax.plot(df.index, df[train_m], linestyle=linestyles[0], color=colors[i], label=lbl+' '+train_m)\n",
        "                ax.plot(df.index, df[val_m], linestyle=linestyles[1], color=colors[i], label=lbl+' '+val_m)\n",
        "            else:\n",
        "                ax.plot(df.index, df[train_m], label=lbl)\n",
        "                ax.plot(df.index, df[val_m], label=lbl)\n",
        "        ax.legend(fontsize=13)\n",
        "\n",
        "if not os.path.exists('eval'):\n",
        "    os.mkdir('eval') \n",
        "files = [os.path.join('eval',f) for f in sorted(os.listdir('eval'))]  \n",
        "print(files)\n",
        "metrics = ['accuracy', 'loss']\n",
        "linestyles= ['-', '--']\n",
        "labels = ['Inception-mod-data-aug-early-stop', 'Minception', 'Inception-Resnet-v2-pretrained']\n",
        "colors = ['r', 'g', 'b', 'purple']\n",
        "plot_metrics(files, metrics, labels, linestyles=linestyles, colors=colors)"
      ],
      "execution_count": 14,
      "outputs": [
        {
          "output_type": "stream",
          "text": [
            "No handles with labels found to put in legend.\n",
            "No handles with labels found to put in legend.\n"
          ],
          "name": "stderr"
        },
        {
          "output_type": "stream",
          "text": [
            "[]\n"
          ],
          "name": "stdout"
        },
        {
          "output_type": "display_data",
          "data": {
            "image/png": "[encoded data removed]",
            "text/plain": [
              "<Figure size 1152x1152 with 2 Axes>"
            ]
          },
          "metadata": {
            "tags": [],
            "needs_background": "light"
          }
        }
      ]
    },
    {
      "cell_type": "code",
      "metadata": {
        "colab": {
          "base_uri": "https://localhost:8080/"
        },
        "id": "H9XIEG1wgpR1",
        "outputId": "fd20d70a-8861-4373-cf37-b16029510d72"
      },
      "source": [
        "K.clear_session()\n",
        "\n",
        "# Load the model from disk\n",
        "try: \n",
        "    model = load_model(os.path.join('models','inception_resnet_v2.h5'))\n",
        "except:\n",
        "    # Sometimes loading the above model result in ValueError: Unknown layer: Functional\n",
        "    print(\"Model loading failed. Trying a different method\")\n",
        "    model = get_inception_resnet_v2_pretrained()\n",
        "    model.load_weights(os.path.join('models','inception_resnet_v2.h5'))\n",
        "\n",
        "print(\"Model was successfully loaded\")\n",
        "\n",
        "# Generating predictions\n",
        "test_gen_aux = data_gen_augmented_inception_resnet_v2(test_gen)\n",
        "test_preds = model.predict(test_gen_aux, steps=get_steps_per_epoch(500*20, batch_size))\n",
        "test_preds = np.argmax(test_preds, axis=-1)"
      ],
      "execution_count": 15,
      "outputs": [
        {
          "output_type": "stream",
          "text": [
            "Model was successfully loaded\n"
          ],
          "name": "stdout"
        }
      ]
    },
    {
      "cell_type": "code",
      "metadata": {
        "colab": {
          "base_uri": "https://localhost:8080/"
        },
        "id": "OOJnWYgMgrwB",
        "outputId": "a5f11602-491a-4d94-a09a-f66edefd866c"
      },
      "source": [
        "def get_tiny_imagenet_classes(wnids_path, words_path):\n",
        "    \" Get the tiny imagenet class names \"\n",
        "    wnids = pd.read_csv(wnids_path, header=None, squeeze=True)\n",
        "    words = pd.read_csv(words_path, sep='\\t', index_col=0, header=None)\n",
        "    words_200 = words.loc[wnids].rename({1:'class'}, axis=1)\n",
        "    words_200.index.name = 'wnid'\n",
        "    return words_200.reset_index()\n",
        "\n",
        "def get_best_and_worst_classes(label_df, test_preds, class_indices):\n",
        "        \n",
        "    def accuracy(x):\n",
        "        \"\"\" Computing the accuracy \"\"\"\n",
        "        return (x[\"pred_label\"]==x[\"true_label\"].iloc[0]).sum()/x.shape[0]\n",
        "    \n",
        "    # Create a copy\n",
        "    test_results = label_df.copy()\n",
        "    \n",
        "    # True labels\n",
        "    test_results[\"true_label\"] = test_results[\"class\"].map(class_indices)\n",
        "    # Predicted labels are computed earlier\n",
        "    test_results[\"pred_label\"] = test_preds\n",
        "    \n",
        "    # Compute accuracy per class\n",
        "    per_class_acc = test_results[[\"class\", \"true_label\", \"pred_label\"]].groupby(\"class\").apply(\n",
        "        lambda x: accuracy(x)).sort_values()\n",
        "    \n",
        "    # Get label names\n",
        "    labels = get_tiny_imagenet_classes(wnids_path, words_path).set_index(\"wnid\")[\"class\"]\n",
        "    per_class_acc = pd.DataFrame(per_class_acc, index=per_class_acc.index, columns=[\"accuracy\"])\n",
        "    per_class_acc.loc[labels.index, \"class_description\"] = labels\n",
        "    \n",
        "    # Printing the results\n",
        "    print(\"Worst performing classes\")\n",
        "    print(\"=\"*50)\n",
        "    print(per_class_acc.head(n=10))\n",
        "    print(\"\\nBest performing classes\")\n",
        "    print(\"=\"*50)\n",
        "    print(per_class_acc.tail(n=10))\n",
        "    return {'best': per_class_acc.iloc[-10:], 'worst': per_class_acc.iloc[:10]}\n",
        "\n",
        "data_dir = os.path.join('data', 'tiny-imagenet-200')\n",
        "wnids_path = os.path.join(data_dir, 'wnids.txt')\n",
        "words_path = os.path.join(data_dir, 'words.txt')\n",
        "\n",
        "test_df = get_test_labels_df(os.path.join('data','tiny-imagenet-200',  'val', 'val_annotations.txt'))\n",
        "class_indices = test_gen.class_indices\n",
        "best_and_worst_cls = get_best_and_worst_classes(test_df, test_preds, class_indices)"
      ],
      "execution_count": 16,
      "outputs": [
        {
          "output_type": "stream",
          "text": [
            "Worst performing classes\n",
            "==================================================\n",
            "           accuracy class_description\n",
            "class                                \n",
            "n03250847       0.0         drumstick\n",
            "n03670208       0.0   limousine, limo\n",
            "n03706229       0.0  magnetic compass\n",
            "n03733131       0.0           maypole\n",
            "n03763968       0.0  military uniform\n",
            "n03770439       0.0   miniskirt, mini\n",
            "n03796401       0.0        moving van\n",
            "n03804744       0.0              nail\n",
            "n03814639       0.0        neck brace\n",
            "n03837869       0.0           obelisk\n",
            "\n",
            "Best performing classes\n",
            "==================================================\n",
            "           accuracy                     class_description\n",
            "class                                                    \n",
            "n01768244      0.02                             trilobite\n",
            "n09193705      0.04                                   alp\n",
            "n03970156      0.04             plunger, plumber's helper\n",
            "n03544143      0.04                             hourglass\n",
            "n04259630      0.04                              sombrero\n",
            "n02843684      0.04                             birdhouse\n",
            "n04486054      0.04                        triumphal arch\n",
            "n09428293      0.06  seashore, coast, seacoast, sea-coast\n",
            "n01950731      0.06                  sea slug, nudibranch\n",
            "n03400231      0.06           frying pan, frypan, skillet\n"
          ],
          "name": "stdout"
        }
      ]
    },
    {
      "cell_type": "code",
      "metadata": {
        "colab": {
          "base_uri": "https://localhost:8080/",
          "height": 369
        },
        "id": "E-dSEDI7guI7",
        "outputId": "26e1e4ac-0622-4602-a6ab-e1f6a9eb5328"
      },
      "source": [
        "tf.keras.utils.plot_model(model)"
      ],
      "execution_count": 17,
      "outputs": [
        {
          "output_type": "execute_result",
          "data": {
            "image/png": "[encoded data removed]",
            "text/plain": [
              "<IPython.core.display.Image object>"
            ]
          },
          "metadata": {
            "tags": []
          },
          "execution_count": 17
        }
      ]
    },
    {
      "cell_type": "code",
      "metadata": {
        "id": "dkFek6iKgvsY"
      },
      "source": [
        "# tf.keras.utils.plot_model(model.layers[1], to_file='resnet.png')"
      ],
      "execution_count": 19,
      "outputs": []
    }
  ]
}