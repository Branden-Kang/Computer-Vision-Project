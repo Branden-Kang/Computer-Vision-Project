{
  "nbformat": 4,
  "nbformat_minor": 0,
  "metadata": {
    "colab": {
      "provenance": [],
      "authorship_tag": "ABX9TyNb+nwoqcHrdukRavq/btpG"
    },
    "kernelspec": {
      "name": "python3",
      "display_name": "Python 3"
    },
    "language_info": {
      "name": "python"
    }
  },
  "cells": [
    {
      "cell_type": "markdown",
      "source": [
        "[Reference](https://medium.com/@andrea.rosales08/liquid-neuronal-networks-using-pytorch-0d0bef41d504)"
      ],
      "metadata": {
        "id": "9cHyzuR25xXb"
      }
    },
    {
      "cell_type": "code",
      "execution_count": 1,
      "metadata": {
        "id": "S6cxbi315vtJ"
      },
      "outputs": [],
      "source": [
        "import torch\n",
        "import torch.nn as nn\n",
        "import torch.optim as optim"
      ]
    },
    {
      "cell_type": "code",
      "source": [
        "class LNN(nn.Module):\n",
        "    def __init__(self, input_size, hidden_size, num_layers):\n",
        "        super(LNN, self).__init__()\n",
        "        self.hidden_size = hidden_size\n",
        "        self.num_layers = num_layers\n",
        "        self.layers = nn.ModuleList([self._create_layer(input_size, hidden_size) for _ in range(num_layers)])\n",
        "\n",
        "    def _create_layer(self, input_size, hidden_size):\n",
        "        return nn.Sequential(\n",
        "            nn.Linear(input_size, hidden_size),\n",
        "            nn.LeakyReLU(),\n",
        "            nn.Linear(hidden_size, hidden_size)\n",
        "        )\n",
        "\n",
        "    def forward(self, x):\n",
        "        for i, layer in enumerate(self.layers):\n",
        "            x = layer(x)\n",
        "        return x"
      ],
      "metadata": {
        "id": "d2i_QGkE53xF"
      },
      "execution_count": 2,
      "outputs": []
    },
    {
      "cell_type": "code",
      "source": [
        "class ODESolver(nn.Module):\n",
        "    def __init__(self, model, dt):\n",
        "        super(ODESolver, self).__init__()\n",
        "        self.model = model\n",
        "        self.dt = dt\n",
        "\n",
        "    def forward(self, x):\n",
        "        with torch.enable_grad():\n",
        "            outputs = []\n",
        "            for i, layer in enumerate(self.model.layers):\n",
        "                outputs.append(layer(x))\n",
        "                x = outputs[-1]\n",
        "        return x\n",
        "\n",
        "    def loss(self, x, t):\n",
        "        with torch.enable_grad():\n",
        "            outputs = []\n",
        "            for i, layer in enumerate(self.model.layers):\n",
        "                outputs.append(layer(x))\n",
        "                x = outputs[-1]\n",
        "        return x"
      ],
      "metadata": {
        "id": "uhUjM31x5402"
      },
      "execution_count": 3,
      "outputs": []
    },
    {
      "cell_type": "code",
      "source": [
        "def train(model, dataset, optimizer, epochs, batch_size):\n",
        "    model.train()\n",
        "    total_loss = 0\n",
        "    for epoch in range(epochs):\n",
        "        for batch in dataset:\n",
        "            inputs, labels = batch\n",
        "            optimizer.zero_grad()\n",
        "            outputs = model(inputs)\n",
        "            loss = model.loss(inputs, outputs)\n",
        "            loss.backward()\n",
        "            optimizer.step()\n",
        "            total_loss += loss.item()\n",
        "        print(f'Epoch {epoch+1}, Loss: {total_loss / len(dataset)}')"
      ],
      "metadata": {
        "id": "hrxKLGWE56Ku"
      },
      "execution_count": 4,
      "outputs": []
    }
  ]
}