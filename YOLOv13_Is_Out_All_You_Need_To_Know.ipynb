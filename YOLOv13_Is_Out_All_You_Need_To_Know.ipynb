{
  "nbformat": 4,
  "nbformat_minor": 0,
  "metadata": {
    "colab": {
      "provenance": [],
      "authorship_tag": "ABX9TyNU9wKy00Jt9um3PxDauiQo"
    },
    "kernelspec": {
      "name": "python3",
      "display_name": "Python 3"
    },
    "language_info": {
      "name": "python"
    }
  },
  "cells": [
    {
      "cell_type": "markdown",
      "source": [
        "[Reference](https://medium.com/@zainshariff6506/yolov13-is-out-all-you-need-to-know-f8c2de876639)"
      ],
      "metadata": {
        "id": "pVyZhSxYVtjy"
      }
    },
    {
      "cell_type": "code",
      "execution_count": 1,
      "metadata": {
        "id": "4qPnRj5CVrrK"
      },
      "outputs": [],
      "source": [
        "from ultralytics import YOLO\n",
        "# VALIDATION =============================================\n",
        "model = YOLO('yolov13{n/s/l/x}.pt')  # Replace with the desired model scale\n",
        "\n",
        "# TRAINING =============================================\n",
        "model = YOLO('yolov13n.yaml')\n",
        "\n",
        "# Train the model\n",
        "results = model.train(\n",
        "  data='coco.yaml',\n",
        "  epochs=600,\n",
        "  batch=256,\n",
        "  imgsz=640,\n",
        "  scale=0.5,  # S:0.9; L:0.9; X:0.9\n",
        "  mosaic=1.0,\n",
        "  mixup=0.0,  # S:0.05; L:0.15; X:0.2\n",
        "  copy_paste=0.1,  # S:0.15; L:0.5; X:0.6\n",
        "  device=\"0,1,2,3\",\n",
        ")\n",
        "\n",
        "# Evaluate model performance on the validation set\n",
        "metrics = model.val('coco.yaml')\n",
        "\n",
        "# Perform object detection on an image\n",
        "results = model(\"path/to/your/image.jpg\")\n",
        "results[0].show()\n",
        "\n",
        "# PREDICTION =============================================\n",
        "model = YOLO('yolov13{n/s/l/x}.pt')  # Replace with the desired model scale\n",
        "model.predict()\n",
        "\n",
        "# EXPORT =============================================\n",
        "model = YOLO('yolov13{n/s/l/x}.pt')  # Replace with the desired model scale\n",
        "model.export(format=\"engine\", half=True)  # or format=\"onnx\""
      ]
    }
  ]
}