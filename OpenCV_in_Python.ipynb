{
  "nbformat": 4,
  "nbformat_minor": 0,
  "metadata": {
    "colab": {
      "name": "OpenCV in Python.ipynb",
      "provenance": [],
      "authorship_tag": "ABX9TyO/ZC/YmpmxJUH1U8ynfygP"
    },
    "kernelspec": {
      "name": "python3",
      "display_name": "Python 3"
    },
    "language_info": {
      "name": "python"
    }
  },
  "cells": [
    {
      "cell_type": "markdown",
      "metadata": {
        "id": "yZPRZGN0kXks"
      },
      "source": [
        "# Reading Videos"
      ]
    },
    {
      "cell_type": "code",
      "metadata": {
        "id": "QE8UUUNHiBvP"
      },
      "source": [
        "import cv2 as cv\n",
        "\n",
        "capture = cv.VideoCapture(\"Videos/2.mp4\")\n",
        "\n",
        "while True:\n",
        "    IsTrue, frames = capture.read()\n",
        "    cv.imshow(\"Motivation\", frames)\n",
        "    if cv.waitKey(20) & 0xFF==ord(\"d\"):\n",
        "        break\n",
        "\n",
        "capture.release()\n",
        "cv.destroyAllWindows()"
      ],
      "execution_count": 1,
      "outputs": []
    },
    {
      "cell_type": "markdown",
      "metadata": {
        "id": "jIgIpzJSkUlK"
      },
      "source": [
        "# Resize and Rescale"
      ]
    },
    {
      "cell_type": "code",
      "metadata": {
        "id": "yFq0wSeSjy9a"
      },
      "source": [
        "import cv2 as cv\n",
        "\n",
        "def rescaleFrame(frame, scale=0.75):\n",
        "    width = int(frame.shape[1] * scale)\n",
        "    height = int(frame.shape[0] * scale)\n",
        "    dimension = (width, height)\n",
        "\n",
        "    return cv.resize(frame, dimension, interpolation=cv.INTER_AREA)\n",
        "\n",
        "capture = cv.VideoCapture(\"Videos/2.mp4\")\n",
        "\n",
        "while True:\n",
        "    IsTrue, frames = capture.read()\n",
        "    resized_frames = rescaleFrame(frames)\n",
        "    cv.imshow(\"Motivation\", frames)\n",
        "    cv.imshow(\"Motivation Resized\", resized_frames)\n",
        "    if cv.waitKey(20) & 0xFF==ord(\"d\"):\n",
        "        break\n",
        "\n",
        "capture.release()\n",
        "cv.destroyAllWindows()"
      ],
      "execution_count": 2,
      "outputs": []
    },
    {
      "cell_type": "code",
      "metadata": {
        "id": "OWe3bbXSkZEe"
      },
      "source": [
        "import cv2 as cv\n",
        "\n",
        "def rescaleFrame(frame, scale=0.75):\n",
        "    width = int(frame.shape[1] * scale)\n",
        "    height = int(frame.shape[0] * scale)\n",
        "    dimension = (width, height)\n",
        "\n",
        "    return cv.resize(frame, dimension, interpolation=cv.INTER_AREA)\n",
        "\n",
        "img = cv.imread(\"Images/1.jpeg\")\n",
        "\n",
        "cv.imshow(\"Travel\", img)\n",
        "rescaled_image =rescaleFrame(img)\n",
        "cv.imshow(\"Traveln Rescaled\", resized_image)\n",
        "\n",
        "cv.waitKey(0)"
      ],
      "execution_count": 3,
      "outputs": []
    },
    {
      "cell_type": "markdown",
      "metadata": {
        "id": "iNmn7iEfmjvW"
      },
      "source": [
        "# Drawing shapes"
      ]
    },
    {
      "cell_type": "code",
      "metadata": {
        "id": "GO_5fOofkwB4"
      },
      "source": [
        "import cv2 as cv\n",
        "import numpy as np\n",
        "\n",
        "blank_img = np.zeros((500, 500), dtype=\"uint8\")\n",
        "\n",
        "cv.imshow(\"Blank Image\", blank_img)\n",
        "cv.waitKey(0)"
      ],
      "execution_count": 6,
      "outputs": []
    },
    {
      "cell_type": "code",
      "metadata": {
        "id": "W5NC0FFLlVSR"
      },
      "source": [
        "import cv2 as cv\n",
        "import numpy as np\n",
        "\n",
        "blank_img = np.zeros((500, 500), dtype=\"uint8\")\n",
        "\n",
        "blank_img[200:300, 100:200] = 255, 0, 0\n",
        "cv.imshow(\"Blank Image\", blank_img)\n",
        "cv.waitKey(0)"
      ],
      "execution_count": 7,
      "outputs": []
    },
    {
      "cell_type": "code",
      "metadata": {
        "id": "lX1giRANmIHQ"
      },
      "source": [
        "import cv2 as cv\n",
        "import numpy as np\n",
        "\n",
        "blank_img = np.zeros((500, 500, 3), dtype=\"uint8\")\n",
        "\n",
        "cv.rectangle(blank_img, (0,0), (100, 100), (255, 0, 0), thickness=2)\n",
        "cv.imshow(\"Rectangle\", blank_img)\n",
        "cv.waitKey(0)"
      ],
      "execution_count": 8,
      "outputs": []
    },
    {
      "cell_type": "code",
      "metadata": {
        "id": "zvl2LCl9mSzr"
      },
      "source": [
        "import cv2 as cv\n",
        "import numpy as np\n",
        "\n",
        "blank_img = np.zeros((500, 500, 3), dtype=\"uint8\")\n",
        "\n",
        "cv.rectangle(blank_img, (0,0), (100, 100), (255, 0, 0), thickness=cv.FILLED)\n",
        "cv.imshow(\"Rectangle\", blank_img)\n",
        "cv.waitKey(0)"
      ],
      "execution_count": 9,
      "outputs": []
    },
    {
      "cell_type": "code",
      "metadata": {
        "id": "TsH0DuA_mdml"
      },
      "source": [
        "import cv2 as cv\n",
        "import numpy as np\n",
        "\n",
        "blank_img = np.zeros((500, 500, 3), dtype=\"uint8\")\n",
        "\n",
        "cv.rectangle(blank_img, (0,0), (100, 100), (255, 0, 0), thickness=cv.FILLED)\n",
        "cv.imshow(\"Rectangle\", blank_img)\n",
        "cv.waitKey(0)"
      ],
      "execution_count": 10,
      "outputs": []
    },
    {
      "cell_type": "code",
      "metadata": {
        "id": "mg5Hw1zbmlkP"
      },
      "source": [
        "import cv2 as cv\n",
        "import numpy as np\n",
        "\n",
        "blank_img = np.zeros((500, 500, 3), dtype=\"uint8\")\n",
        "\n",
        "cv.circle(blank_img, (blank_img.shape[1]//2), blank_img.shape[0]//2), \\\n",
        "          40, (0,0,255), thickness=-1)\n",
        "cv.imshow(\"Circle in image\", blank_img)\n",
        "cv.waitKey(0)"
      ],
      "execution_count": 11,
      "outputs": []
    },
    {
      "cell_type": "code",
      "metadata": {
        "id": "dGH31gM1nBKb"
      },
      "source": [
        "import cv2 as cv\n",
        "import numpy as np\n",
        "\n",
        "blank_img = np.zeros((500, 500, 3), dtype=\"uint8\")\n",
        "\n",
        "cv.line(blank_img, (blank_img.shape[1]//2), blank_img.shape[0]//2), \\\n",
        "          40, (0,0,255), thickness=3)\n",
        "cv.imshow(\"Line in image\", blank_img)\n",
        "cv.waitKey(0)"
      ],
      "execution_count": 12,
      "outputs": []
    },
    {
      "cell_type": "code",
      "metadata": {
        "id": "8VvKSEDfnF_D"
      },
      "source": [
        "import cv2 as cv\n",
        "import numpy as np\n",
        "\n",
        "blank_img = np.zeros((500, 500, 3), dtype=\"uint8\")\n",
        "\n",
        "cv.putText(blank_img, \"Hello World\", (225, 225), cv.FONT_HERSHEY_PLAIN, \\\n",
        "           2.0, (255, 255, 255), 2)\n",
        "cv.imshow(\"Text in image\", blank_img)\n",
        "cv.waitKey(0)"
      ],
      "execution_count": 13,
      "outputs": []
    }
  ]
}