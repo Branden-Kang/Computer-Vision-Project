{
  "nbformat": 4,
  "nbformat_minor": 0,
  "metadata": {
    "colab": {
      "name": "Create a Grayscale Image Editor with Just 5 Lines of Code.ipynb",
      "provenance": [],
      "authorship_tag": "ABX9TyN5ySviwymkWd1rKndBerXy"
    },
    "kernelspec": {
      "name": "python3",
      "display_name": "Python 3"
    },
    "language_info": {
      "name": "python"
    }
  },
  "cells": [
    {
      "cell_type": "markdown",
      "metadata": {
        "id": "nxCy9EJwZkQK"
      },
      "source": [
        "[Reference](https://python.plainenglish.io/create-a-grayscale-image-editor-with-just-5-lines-of-code-9748387df270)"
      ]
    },
    {
      "cell_type": "code",
      "metadata": {
        "id": "WDjKiYGtXvJk",
        "colab": {
          "base_uri": "https://localhost:8080/"
        },
        "outputId": "f91e1a55-132b-4c21-fc9e-9cf59be24e28"
      },
      "source": [
        "pip install opencv-python"
      ],
      "execution_count": 1,
      "outputs": [
        {
          "output_type": "stream",
          "text": [
            "Requirement already satisfied: opencv-python in /usr/local/lib/python3.7/dist-packages (4.1.2.30)\n",
            "Requirement already satisfied: numpy>=1.14.5 in /usr/local/lib/python3.7/dist-packages (from opencv-python) (1.19.5)\n"
          ],
          "name": "stdout"
        }
      ]
    },
    {
      "cell_type": "code",
      "metadata": {
        "id": "2zKtBZM0ZOaw"
      },
      "source": [
        "import cv2"
      ],
      "execution_count": 2,
      "outputs": []
    },
    {
      "cell_type": "code",
      "metadata": {
        "id": "Lppknbl9ZPcK"
      },
      "source": [
        "img = cv2.imread('colorizedimage.jpg', 0)"
      ],
      "execution_count": 3,
      "outputs": []
    },
    {
      "cell_type": "code",
      "metadata": {
        "id": "SjdgkVKuZXA6"
      },
      "source": [
        "cv2.imshow('Grayscaled Image',img)"
      ],
      "execution_count": 5,
      "outputs": []
    },
    {
      "cell_type": "code",
      "metadata": {
        "id": "E_NR3OAZZY9E"
      },
      "source": [
        "# cv2.destroyAllWindows()"
      ],
      "execution_count": 6,
      "outputs": []
    },
    {
      "cell_type": "code",
      "metadata": {
        "id": "GeUEaHEtZddn"
      },
      "source": [
        "cv2.imwrite('Grayscale_Image.png',img)"
      ],
      "execution_count": 7,
      "outputs": []
    }
  ]
}