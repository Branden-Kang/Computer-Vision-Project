{
  "nbformat": 4,
  "nbformat_minor": 0,
  "metadata": {
    "colab": {
      "provenance": [],
      "authorship_tag": "ABX9TyPG/EF61KNYsTxsAM9ymE8V"
    },
    "kernelspec": {
      "name": "python3",
      "display_name": "Python 3"
    },
    "language_info": {
      "name": "python"
    }
  },
  "cells": [
    {
      "cell_type": "markdown",
      "source": [
        "[Reference](https://ai.gopubby.com/how-i-used-a-u-net-to-map-building-footprints-from-the-sky-bf6d184c41d8)"
      ],
      "metadata": {
        "id": "0WQMjYLLMy1J"
      }
    },
    {
      "cell_type": "markdown",
      "source": [
        "# Encoder Block"
      ],
      "metadata": {
        "id": "RNkSTK23M408"
      }
    },
    {
      "cell_type": "code",
      "execution_count": 1,
      "metadata": {
        "id": "QggM3yDqMwpU"
      },
      "outputs": [],
      "source": [
        "def encoder_block(filters, inputs, dropout_rate=0.1, kernel_initializer='lecun_normal'):\n",
        "    x = Conv2D(filters, kernel_size=(3, 3), padding='same', strides=1, activation='relu',\n",
        "               kernel_initializer=kernel_initializer)(inputs)\n",
        "    x = SpatialDropout2D(dropout_rate)(x)\n",
        "    s = Conv2D(filters, kernel_size=(3, 3), padding='same', strides=1, activation='relu',\n",
        "               kernel_initializer=kernel_initializer)(x)\n",
        "    s = SpatialDropout2D(dropout_rate)(s)\n",
        "    p = MaxPooling2D(pool_size=(2, 2), padding='same')(s)\n",
        "    return s, p"
      ]
    },
    {
      "cell_type": "markdown",
      "source": [
        "# Bottleneck Layer"
      ],
      "metadata": {
        "id": "wp3j58MAM7C1"
      }
    },
    {
      "cell_type": "code",
      "source": [
        "def baseline_layer(filters, inputs, dropout_rate=0.1, kernel_initializer='lecun_normal'):\n",
        "    x = Conv2D(filters, kernel_size=(3, 3), padding='same', strides=1, activation='relu',\n",
        "               kernel_initializer=kernel_initializer)(inputs)\n",
        "    x = SpatialDropout2D(dropout_rate)(x)\n",
        "    x = Conv2D(filters, kernel_size=(3, 3), padding='same', strides=1, activation='relu',\n",
        "               kernel_initializer=kernel_initializer)(x)\n",
        "    x = SpatialDropout2D(dropout_rate)(x)\n",
        "    return x"
      ],
      "metadata": {
        "id": "OdgLYVJFM5K8"
      },
      "execution_count": 2,
      "outputs": []
    },
    {
      "cell_type": "markdown",
      "source": [
        "# Decoder Block"
      ],
      "metadata": {
        "id": "FghlknKoM9S1"
      }
    },
    {
      "cell_type": "code",
      "source": [
        "def decoder_block(filters, connections, inputs, dropout_rate=0.1, kernel_initializer='lecun_normal'):\n",
        "    x = Conv2DTranspose(filters, kernel_size=(2, 2), padding='same', activation='relu', strides=2,\n",
        "                        kernel_initializer=kernel_initializer)(inputs)\n",
        "    skip_connections = concatenate([x, connections], axis=-1)\n",
        "    x = Conv2D(filters, kernel_size=(3, 3), padding='same', activation='relu',\n",
        "               kernel_initializer=kernel_initializer)(skip_connections)\n",
        "    x = SpatialDropout2D(dropout_rate)(x)\n",
        "    x = Conv2D(filters, kernel_size=(3, 3), padding='same', activation='relu',\n",
        "               kernel_initializer=kernel_initializer)(x)\n",
        "    x = SpatialDropout2D(dropout_rate)(x)\n",
        "    return x"
      ],
      "metadata": {
        "id": "8E_rla-vM8UB"
      },
      "execution_count": 3,
      "outputs": []
    },
    {
      "cell_type": "markdown",
      "source": [
        "# Final Output Layer"
      ],
      "metadata": {
        "id": "Cy5aM5YfNARN"
      }
    },
    {
      "cell_type": "code",
      "source": [
        "# outputs = Conv2D(1, 1, activation = 'sigmoid')(d4)"
      ],
      "metadata": {
        "id": "FVCrAkBfM_K-"
      },
      "execution_count": 4,
      "outputs": []
    },
    {
      "cell_type": "markdown",
      "source": [
        "# Putting all of the Pieces Together"
      ],
      "metadata": {
        "id": "sVtQOooxNGSz"
      }
    },
    {
      "cell_type": "code",
      "source": [
        "def unet():\n",
        "  inputs = Input(shape = (256, 256, 3)) #defines the input layer and shape of images\n",
        "\n",
        "  #encoder\n",
        "  s1, p1 = encoder_block(32, inputs = inputs)\n",
        "  s2, p2 = encoder_block(64, inputs = p1)\n",
        "  s3, p3 = encoder_block(128, inputs = p2)\n",
        "  s4, p4 = encoder_block(256, inputs = p3)\n",
        "\n",
        "  #bottleneck\n",
        "  baseline = baseline_layer(512, p4)\n",
        "\n",
        "  #decoder\n",
        "  d1 = decoder_block(256, s4, baseline)\n",
        "  d2 = decoder_block(128, s3, d1)\n",
        "  d3 = decoder_block(64, s2, d2)\n",
        "  d4 = decoder_block(32, s1, d3)\n",
        "\n",
        "  #output function for binary classification of pixels\n",
        "  outputs = Conv2D(1, 1, activation = 'sigmoid')(d4)\n",
        "\n",
        "  #finalizing the model\n",
        "  model = Model(inputs = inputs, outputs = outputs, name = 'Unet')\n",
        "\n",
        "  return model"
      ],
      "metadata": {
        "id": "DIMKpaw8NDAS"
      },
      "execution_count": 5,
      "outputs": []
    }
  ]
}