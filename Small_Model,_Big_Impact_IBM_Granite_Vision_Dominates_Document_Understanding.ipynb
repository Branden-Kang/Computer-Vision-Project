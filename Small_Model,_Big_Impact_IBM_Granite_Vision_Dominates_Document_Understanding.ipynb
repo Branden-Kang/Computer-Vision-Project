{
  "nbformat": 4,
  "nbformat_minor": 0,
  "metadata": {
    "colab": {
      "provenance": [],
      "authorship_tag": "ABX9TyN7/eb/oR5saHptqDdwmwfV"
    },
    "kernelspec": {
      "name": "python3",
      "display_name": "Python 3"
    },
    "language_info": {
      "name": "python"
    }
  },
  "cells": [
    {
      "cell_type": "markdown",
      "source": [
        "[Reference](https://blog.gopenai.com/small-model-big-impact-ibm-granite-vision-dominates-document-understanding-547a505a0874)"
      ],
      "metadata": {
        "id": "SstgMx-tKcOr"
      }
    },
    {
      "cell_type": "markdown",
      "source": [
        "```\n",
        "python3 -m venv venv\n",
        "source venv/bin/activate\n",
        "\n",
        "pip install --upgrade pip\n",
        "```"
      ],
      "metadata": {
        "id": "qC9iKkkWKfm3"
      }
    },
    {
      "cell_type": "code",
      "execution_count": 1,
      "metadata": {
        "colab": {
          "base_uri": "https://localhost:8080/"
        },
        "id": "wQM4rhytKKrJ",
        "outputId": "81b124b8-3013-4653-a623-5f3d7cae09a3"
      },
      "outputs": [
        {
          "output_type": "stream",
          "name": "stdout",
          "text": [
            "Requirement already satisfied: transformers>=4.49 in /usr/local/lib/python3.12/dist-packages (4.56.1)\n",
            "Requirement already satisfied: Pillow in /usr/local/lib/python3.12/dist-packages (11.3.0)\n",
            "Requirement already satisfied: torch in /usr/local/lib/python3.12/dist-packages (2.8.0+cu126)\n",
            "Requirement already satisfied: huggingface_hub in /usr/local/lib/python3.12/dist-packages (0.34.4)\n",
            "Requirement already satisfied: filelock in /usr/local/lib/python3.12/dist-packages (from transformers>=4.49) (3.19.1)\n",
            "Requirement already satisfied: numpy>=1.17 in /usr/local/lib/python3.12/dist-packages (from transformers>=4.49) (2.0.2)\n",
            "Requirement already satisfied: packaging>=20.0 in /usr/local/lib/python3.12/dist-packages (from transformers>=4.49) (25.0)\n",
            "Requirement already satisfied: pyyaml>=5.1 in /usr/local/lib/python3.12/dist-packages (from transformers>=4.49) (6.0.2)\n",
            "Requirement already satisfied: regex!=2019.12.17 in /usr/local/lib/python3.12/dist-packages (from transformers>=4.49) (2024.11.6)\n",
            "Requirement already satisfied: requests in /usr/local/lib/python3.12/dist-packages (from transformers>=4.49) (2.32.4)\n",
            "Requirement already satisfied: tokenizers<=0.23.0,>=0.22.0 in /usr/local/lib/python3.12/dist-packages (from transformers>=4.49) (0.22.0)\n",
            "Requirement already satisfied: safetensors>=0.4.3 in /usr/local/lib/python3.12/dist-packages (from transformers>=4.49) (0.6.2)\n",
            "Requirement already satisfied: tqdm>=4.27 in /usr/local/lib/python3.12/dist-packages (from transformers>=4.49) (4.67.1)\n",
            "Requirement already satisfied: typing-extensions>=4.10.0 in /usr/local/lib/python3.12/dist-packages (from torch) (4.15.0)\n",
            "Requirement already satisfied: setuptools in /usr/local/lib/python3.12/dist-packages (from torch) (75.2.0)\n",
            "Requirement already satisfied: sympy>=1.13.3 in /usr/local/lib/python3.12/dist-packages (from torch) (1.13.3)\n",
            "Requirement already satisfied: networkx in /usr/local/lib/python3.12/dist-packages (from torch) (3.5)\n",
            "Requirement already satisfied: jinja2 in /usr/local/lib/python3.12/dist-packages (from torch) (3.1.6)\n",
            "Requirement already satisfied: fsspec in /usr/local/lib/python3.12/dist-packages (from torch) (2025.3.0)\n",
            "Requirement already satisfied: nvidia-cuda-nvrtc-cu12==12.6.77 in /usr/local/lib/python3.12/dist-packages (from torch) (12.6.77)\n",
            "Requirement already satisfied: nvidia-cuda-runtime-cu12==12.6.77 in /usr/local/lib/python3.12/dist-packages (from torch) (12.6.77)\n",
            "Requirement already satisfied: nvidia-cuda-cupti-cu12==12.6.80 in /usr/local/lib/python3.12/dist-packages (from torch) (12.6.80)\n",
            "Requirement already satisfied: nvidia-cudnn-cu12==9.10.2.21 in /usr/local/lib/python3.12/dist-packages (from torch) (9.10.2.21)\n",
            "Requirement already satisfied: nvidia-cublas-cu12==12.6.4.1 in /usr/local/lib/python3.12/dist-packages (from torch) (12.6.4.1)\n",
            "Requirement already satisfied: nvidia-cufft-cu12==11.3.0.4 in /usr/local/lib/python3.12/dist-packages (from torch) (11.3.0.4)\n",
            "Requirement already satisfied: nvidia-curand-cu12==10.3.7.77 in /usr/local/lib/python3.12/dist-packages (from torch) (10.3.7.77)\n",
            "Requirement already satisfied: nvidia-cusolver-cu12==11.7.1.2 in /usr/local/lib/python3.12/dist-packages (from torch) (11.7.1.2)\n",
            "Requirement already satisfied: nvidia-cusparse-cu12==12.5.4.2 in /usr/local/lib/python3.12/dist-packages (from torch) (12.5.4.2)\n",
            "Requirement already satisfied: nvidia-cusparselt-cu12==0.7.1 in /usr/local/lib/python3.12/dist-packages (from torch) (0.7.1)\n",
            "Requirement already satisfied: nvidia-nccl-cu12==2.27.3 in /usr/local/lib/python3.12/dist-packages (from torch) (2.27.3)\n",
            "Requirement already satisfied: nvidia-nvtx-cu12==12.6.77 in /usr/local/lib/python3.12/dist-packages (from torch) (12.6.77)\n",
            "Requirement already satisfied: nvidia-nvjitlink-cu12==12.6.85 in /usr/local/lib/python3.12/dist-packages (from torch) (12.6.85)\n",
            "Requirement already satisfied: nvidia-cufile-cu12==1.11.1.6 in /usr/local/lib/python3.12/dist-packages (from torch) (1.11.1.6)\n",
            "Requirement already satisfied: triton==3.4.0 in /usr/local/lib/python3.12/dist-packages (from torch) (3.4.0)\n",
            "Requirement already satisfied: hf-xet<2.0.0,>=1.1.3 in /usr/local/lib/python3.12/dist-packages (from huggingface_hub) (1.1.9)\n",
            "Requirement already satisfied: mpmath<1.4,>=1.1.0 in /usr/local/lib/python3.12/dist-packages (from sympy>=1.13.3->torch) (1.3.0)\n",
            "Requirement already satisfied: MarkupSafe>=2.0 in /usr/local/lib/python3.12/dist-packages (from jinja2->torch) (3.0.2)\n",
            "Requirement already satisfied: charset_normalizer<4,>=2 in /usr/local/lib/python3.12/dist-packages (from requests->transformers>=4.49) (3.4.3)\n",
            "Requirement already satisfied: idna<4,>=2.5 in /usr/local/lib/python3.12/dist-packages (from requests->transformers>=4.49) (3.10)\n",
            "Requirement already satisfied: urllib3<3,>=1.21.1 in /usr/local/lib/python3.12/dist-packages (from requests->transformers>=4.49) (2.5.0)\n",
            "Requirement already satisfied: certifi>=2017.4.17 in /usr/local/lib/python3.12/dist-packages (from requests->transformers>=4.49) (2025.8.3)\n"
          ]
        }
      ],
      "source": [
        "pip install 'transformers>=4.49' Pillow torch huggingface_hub"
      ]
    },
    {
      "cell_type": "code",
      "source": [
        "# app.py\n",
        "\n",
        "import os\n",
        "from PIL import Image\n",
        "from transformers import AutoProcessor, AutoModelForVision2Seq\n",
        "from huggingface_hub import hf_hub_download\n",
        "import torch\n",
        "\n",
        "def run_vision_inference_with_conversation(model_name: str = \"ibm-granite/granite-vision-3.3-2b\"):\n",
        "    _name (str): The name of the Hugging Face model to use.\n",
        "    device = \"cuda\" if torch.cuda.is_available() else \"cpu\"\n",
        "    print(f\"Using device: {device}\")\n",
        "\n",
        "    print(f\"Attempting to load model and processor: {model_name}\")\n",
        "    try:\n",
        "\n",
        "        processor = AutoProcessor.from_pretrained(model_name)\n",
        "        model = AutoModelForVision2Seq.from_pretrained(model_name).to(device)\n",
        "        print(\"Model and processor loaded successfully.\")\n",
        "    except Exception as e:\n",
        "        print(f\"Error loading model or processor: {e}\")\n",
        "        print(\"Please ensure you have 'transformers' and 'torch' (or 'tensorflow') installed.\")\n",
        "        print(\"You might also need to log in to Hugging Face with 'huggingface-cli login'.\")\n",
        "        return\n",
        "\n",
        "    print(f\"Downloading example image from Hugging Face Hub for model: {model_name}\")\n",
        "    img_path = None\n",
        "    try:\n",
        "        # Download an example image provided with the model from the Hugging Face Hub\n",
        "        img_path = hf_hub_download(repo_id=model_name, filename='example.png')\n",
        "        print(f\"Example image downloaded to: {img_path}\")\n",
        "    except Exception as e:\n",
        "        print(f\"Error downloading example image: {e}\")\n",
        "        print(\"Please check your internet connection or the model's repository for 'example.png'.\")\n",
        "        return\n",
        "\n",
        "    print(\"\\n--- Interactive Chat ---\")\n",
        "    print(\"Type your questions about the image. Type 'quit' or 'exit' to end the session.\")\n",
        "\n",
        "    # Main loop for interactive chat\n",
        "    while True:\n",
        "        user_input = input(\"You: \").strip()\n",
        "\n",
        "\n",
        "        if user_input.lower() in [\"quit\", \"exit\"]:\n",
        "            print(\"Exiting application. Goodbye!\")\n",
        "            break\n",
        "\n",
        "        conversation = [\n",
        "            {\n",
        "                \"role\": \"user\",\n",
        "                \"content\": [\n",
        "                    {\"type\": \"image\", \"url\": img_path},\n",
        "                    {\"type\": \"text\", \"text\": user_input},\n",
        "                ],\n",
        "            },\n",
        "        ]\n",
        "\n",
        "        print(\"Applying chat template and preparing inputs...\")\n",
        "        try:\n",
        "\n",
        "            inputs = processor.apply_chat_template(\n",
        "                conversation,\n",
        "                add_generation_prompt=True,\n",
        "                tokenize=True,\n",
        "                return_dict=True,\n",
        "                return_tensors=\"pt\"\n",
        "            ).to(device)\n",
        "            print(\"Inputs prepared successfully.\")\n",
        "        except Exception as e:\n",
        "            print(f\"Error applying chat template or preparing inputs: {e}\")\n",
        "            continue # Continue to next iteration if input preparation fails\n",
        "\n",
        "        print(\"Generating response from the model...\")\n",
        "        try:\n",
        "\n",
        "            output = model.generate(**inputs, max_new_tokens=100)\n",
        "\n",
        "\n",
        "            generated_text = processor.decode(output[0], skip_special_tokens=True)\n",
        "\n",
        "            print(\"\\n--- Model Output ---\")\n",
        "            print(generated_text)\n",
        "            print(\"--------------------\\n\")\n",
        "\n",
        "        except Exception as e:\n",
        "            print(f\"An error occurred during inference: {e}\")\n",
        "            print(\"This could be due to memory constraints or other issues during generation.\\n\")\n",
        "\n",
        "\n",
        "if __name__ == \"__main__\":\n",
        "\n",
        "    run_vision_inference_with_conversation()"
      ],
      "metadata": {
        "id": "RsM-jV9jKkxd"
      },
      "execution_count": 2,
      "outputs": []
    }
  ]
}