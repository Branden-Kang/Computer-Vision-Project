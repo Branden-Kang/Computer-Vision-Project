{
  "nbformat": 4,
  "nbformat_minor": 0,
  "metadata": {
    "colab": {
      "provenance": [],
      "authorship_tag": "ABX9TyMEa2JsXVzYIOKSfns76BQ+"
    },
    "kernelspec": {
      "name": "python3",
      "display_name": "Python 3"
    },
    "language_info": {
      "name": "python"
    }
  },
  "cells": [
    {
      "cell_type": "markdown",
      "source": [
        "[Reference](https://medium.com/@zainshariff6506/a-simple-yolov13-tutorial-from-beginners-to-experts-15fb6a224c83)"
      ],
      "metadata": {
        "id": "3R2Mg7x0hKRY"
      }
    },
    {
      "cell_type": "markdown",
      "source": [
        "# Training Python Code"
      ],
      "metadata": {
        "id": "mQ4fo1pQhyQI"
      }
    },
    {
      "cell_type": "code",
      "execution_count": 1,
      "metadata": {
        "id": "R5XihY2zhF7B"
      },
      "outputs": [],
      "source": [
        "from ultralytics import YOLO\n",
        "model = YOLO('INSERT_MODEL_NAME')\n",
        "# Train the model\n",
        "results = model.train(data='PATH_TO_DATASET', epochs=CHOOSE_AND_EXPERIMENT, imgsz=640)"
      ]
    },
    {
      "cell_type": "markdown",
      "source": [
        "# If you did track put the following code:"
      ],
      "metadata": {
        "id": "CjDu2SCVh0VB"
      }
    },
    {
      "cell_type": "code",
      "source": [
        "from ultralytics import YOLO\n",
        "model = YOLO('PATH_TO_MODEL')\n",
        "# Perform tracking with the model\n",
        "results = model.track('INSERT YOUTUBE LINK', show=True)"
      ],
      "metadata": {
        "id": "yTkib8_Shvkk"
      },
      "execution_count": 2,
      "outputs": []
    },
    {
      "cell_type": "markdown",
      "source": [
        "# You could validate your model which helps tune it slightly more for a better boost:"
      ],
      "metadata": {
        "id": "gnCgGxt3h4eO"
      }
    },
    {
      "cell_type": "code",
      "source": [
        "from ultralytics import YOLO\n",
        "model = YOLO(\"PATH TO MODEL\")\n",
        "metrics = model.val()  # no arguments needed\n",
        "# You can take a look at certain stats like the following\n",
        "metrics.box.map  # map50-95\n",
        "metrics.box.map50  # map50"
      ],
      "metadata": {
        "id": "F_bapdrjh1Pj"
      },
      "execution_count": 3,
      "outputs": []
    },
    {
      "cell_type": "markdown",
      "source": [
        "# It can also make predictions on new images"
      ],
      "metadata": {
        "id": "Bl5Yzzm3h6lP"
      }
    },
    {
      "cell_type": "code",
      "source": [
        "from ultralytics import YOLO\n",
        "# Load a model\n",
        "model = YOLO(\"PATH TO MODEL\")\n",
        "# Run batched inference on a list of images\n",
        "results = model([\"im1.jpg\", \"im2.jpg\"])  # return a list of Results objects\n",
        "# Process results list\n",
        "for result in results:\n",
        "    boxes = result.boxes  # Boxes object for bounding box outputs\n",
        "    masks = result.masks  # Masks object for segmentation masks outputs\n",
        "    keypoints = result.keypoints  # Keypoints object for pose outputs\n",
        "    probs = result.probs  # Probs object for classification outputs\n",
        "    obb = result.obb  # Oriented boxes object for OBB outputs\n",
        "    result.show()  # display to screen\n",
        "    result.save(filename=\"result.jpg\")  # save to disk"
      ],
      "metadata": {
        "id": "LAVnd6kch3eh"
      },
      "execution_count": 4,
      "outputs": []
    },
    {
      "cell_type": "markdown",
      "source": [
        "# You can export the model into a different format like .onnx"
      ],
      "metadata": {
        "id": "DZOQ372Jh_k7"
      }
    },
    {
      "cell_type": "code",
      "source": [
        "from ultralytics import YOLO\n",
        "# Load a model\n",
        "model = YOLO(\"PATH TO MODEL\")\n",
        "# Export the model\n",
        "model.export(format=\"onnx\")"
      ],
      "metadata": {
        "id": "Ko7qRME-h8lE"
      },
      "execution_count": 5,
      "outputs": []
    },
    {
      "cell_type": "markdown",
      "source": [
        "# And you can benchmark your model:"
      ],
      "metadata": {
        "id": "cedU2rFciCmu"
      }
    },
    {
      "cell_type": "code",
      "source": [
        "from ultralytics.utils.benchmarks import benchmark\n",
        "# Benchmark on GPU\n",
        "benchmark(model='PATH_TO_MODEL', data='DATASET PATH', imgsz=640, half=False)"
      ],
      "metadata": {
        "id": "shhm5ppqiBXK"
      },
      "execution_count": 6,
      "outputs": []
    }
  ]
}