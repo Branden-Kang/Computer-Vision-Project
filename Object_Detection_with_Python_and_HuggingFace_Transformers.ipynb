{
  "nbformat": 4,
  "nbformat_minor": 0,
  "metadata": {
    "colab": {
      "provenance": [],
      "authorship_tag": "ABX9TyPK6bkImocP6RejDFYu6nMM"
    },
    "kernelspec": {
      "name": "python3",
      "display_name": "Python 3"
    },
    "language_info": {
      "name": "python"
    }
  },
  "cells": [
    {
      "cell_type": "markdown",
      "source": [
        "[Reference](https://medium.com/@francescofranco_39234/object-detection-with-python-and-huggingface-transformers-f1347398b112)"
      ],
      "metadata": {
        "id": "JIWji7j0hKIJ"
      }
    },
    {
      "cell_type": "code",
      "execution_count": 1,
      "metadata": {
        "id": "hlDHXH8ggr_c"
      },
      "outputs": [],
      "source": [
        "from transformers import pipeline\n",
        "from PIL import Image, ImageDraw, ImageFont\n",
        "\n",
        "\n",
        "# Load font\n",
        "font = ImageFont.truetype(\"arial.ttf\", 40)\n",
        "\n",
        "# Initialize the object detection pipeline\n",
        "object_detector = pipeline(\"object-detection\")\n",
        "\n",
        "\n",
        "# Draw bounding box definition\n",
        "def draw_bounding_box(im, score, label, xmin, ymin, xmax, ymax, index, num_boxes):\n",
        "\t\"\"\" Draw a bounding box. \"\"\"\n",
        "\n",
        "\tprint(f\"Drawing bounding box {index} of {num_boxes}...\")\n",
        "\n",
        "\t# Draw the actual bounding box\n",
        "\tim_with_rectangle = ImageDraw.Draw(im)\n",
        "\tim_with_rectangle.rounded_rectangle((xmin, ymin, xmax, ymax), outline = \"red\", width = 5, radius = 10)\n",
        "\n",
        "\t# Draw the label\n",
        "\tim_with_rectangle.text((xmin+35, ymin-25), label, fill=\"white\", stroke_fill = \"red\", font = font)\n",
        "\n",
        "\t# Return the intermediate result\n",
        "\treturn im\n",
        "\n",
        "\n",
        "# Open the image\n",
        "with Image.open(\"street.jpg\") as im:\n",
        "\n",
        "\t# Perform object detection\n",
        "\tbounding_boxes = object_detector(im)\n",
        "\n",
        "\t# Iteration elements\n",
        "\tnum_boxes = len(bounding_boxes)\n",
        "\tindex = 0\n",
        "\n",
        "\t# Draw bounding box for each result\n",
        "\tfor bounding_box in bounding_boxes:\n",
        "\n",
        "\t\t# Get actual box\n",
        "\t\tbox = bounding_box[\"box\"]\n",
        "\n",
        "\t\t# Draw the bounding box\n",
        "\t\tim = draw_bounding_box(im, bounding_box[\"score\"], bounding_box[\"label\"],\\\n",
        "\t\t\tbox[\"xmin\"], box[\"ymin\"], box[\"xmax\"], box[\"ymax\"], index, num_boxes)\n",
        "\n",
        "\t\t# Increase index by one\n",
        "\t\tindex += 1\n",
        "\n",
        "\t# Save image\n",
        "\tim.save(\"street_bboxes.jpg\")\n",
        "\n",
        "\t# Done\n",
        "\tprint(\"Done!\")"
      ]
    }
  ]
}